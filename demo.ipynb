{
 "cells": [
  {
   "cell_type": "code",
   "execution_count": 6,
   "metadata": {},
   "outputs": [
    {
     "name": "stdout",
     "output_type": "stream",
     "text": [
      "%pylab is deprecated, use %matplotlib inline and import the required libraries.\n",
      "Populating the interactive namespace from numpy and matplotlib\n"
     ]
    }
   ],
   "source": [
    "import os, sys\n",
    "%pylab inline\n",
    "import pandas as pd\n",
    "project_path = \"/Users/stootoon/git/presentation-scheduler\""
   ]
  },
  {
   "cell_type": "code",
   "execution_count": 25,
   "metadata": {},
   "outputs": [],
   "source": [
    "data = pd.read_csv(project_path + '/data.csv')\n",
    "earliest_date = \"01.01.2020\"\n",
    "# Any columns that end in _last, replace NaNs with the earliest date\n",
    "for col in data.columns:\n",
    "    if col.endswith(\"_last\"):\n",
    "        data[col] = data[col].fillna(earliest_date)\n",
    "\n",
    "# Find columns that end with _date. These contain dates for each schedule.\n",
    "# Extract the non-nan values\n",
    "dates = data.columns[data.columns.str.endswith(\"_date\")]\n",
    "schedules = [col.split(\"_date\")[0] for col in dates]\n",
    "names = sorted(data[\"name\"].unique())"
   ]
  },
  {
   "cell_type": "code",
   "execution_count": 26,
   "metadata": {},
   "outputs": [],
   "source": [
    "schedule_dates = {name: data[name + \"_date\"].dropna().unique() for name in schedules}"
   ]
  },
  {
   "cell_type": "code",
   "execution_count": 27,
   "metadata": {},
   "outputs": [
    {
     "name": "stdout",
     "output_type": "stream",
     "text": [
      "['Carles', 'Cecilia', 'Fred', 'Hugo', 'Jake', 'Jakob', 'James', 'Mihaly', 'Olivia', 'Safe', 'Sina', 'William', 'Yikai', 'Yuxin'] ['proj_pres', 'jc']\n"
     ]
    }
   ],
   "source": [
    "print(names, schedules)"
   ]
  },
  {
   "cell_type": "code",
   "execution_count": null,
   "metadata": {},
   "outputs": [],
   "source": [
    "def objective(last_pres, schedule_dates, A, be):\n",
    "    n_sched = len(A)\n",
    "    obj = 0\n",
    "    for sched_mu, Amu_md in enumerate(schedules, A):\n",
    "        Lmu_m = last_pres[sched_mu]\n",
    "        Dmu_d = schedule_dates[sched_mu]        \n",
    "        R = Lmu_m[:, None] - Dmu_d[None, :]\n",
    "        obj += be[0] * sum(Amu_md * R**2)\n",
    "\n",
    "    for sched_mu, Amu_md in enumerate(schedules, A):\n",
    "        Dmu_d = schedule_dates[sched_mu]\n",
    "        for sched_nu, Anu_mt in enumerate(schedules, A):\n",
    "            Dnu_t = schedule_dates[sched_nu]\n",
    "            R = Dmu_d[:, None] - Dnu_t[None, :]\n",
    "            for m in range(names):\n",
    "                AA = Amu_md[m][:, None] * Anu_mt[m][None, :]\n",
    "                obj += be[1] * sum(AA * R**2)\n",
    "            # obj += be[1] * sum(Amu_md * Anu_mt * R**2)\n",
    "\n",
    "    return obj\n",
    "    \n",
    "\n",
    "        for nu, Anu in enumerate(A):\n",
    "            if mu == nu:\n",
    "                continue\n",
    "            for i, date in enumerate(schedule_dates):\n",
    "                if last_pres[mu] == date:\n",
    "                    obj += be[mu, nu] * (A[mu, nu] + A[nu, mu])\n",
    "\n",
    "    "
   ]
  },
  {
   "cell_type": "code",
   "execution_count": 21,
   "metadata": {},
   "outputs": [
    {
     "data": {
      "text/plain": [
       "{'proj_pres': array(['10.04.2025', '08.05.2025', '12.06.2025', '10.07.2025',\n",
       "        '11.09.2025', '09.10.2025', '13.11.2025'], dtype=object),\n",
       " 'jc': array(['24.04.2025', '29.05.2025', '26.06.2025', '31.07.2025',\n",
       "        '25.09.2025', '30.10.2025', '27.11.2025'], dtype=object)}"
      ]
     },
     "execution_count": 21,
     "metadata": {},
     "output_type": "execute_result"
    }
   ],
   "source": [
    "schedule_dates"
   ]
  },
  {
   "cell_type": "code",
   "execution_count": 15,
   "metadata": {},
   "outputs": [
    {
     "data": {
      "text/html": [
       "<div>\n",
       "<style scoped>\n",
       "    .dataframe tbody tr th:only-of-type {\n",
       "        vertical-align: middle;\n",
       "    }\n",
       "\n",
       "    .dataframe tbody tr th {\n",
       "        vertical-align: top;\n",
       "    }\n",
       "\n",
       "    .dataframe thead th {\n",
       "        text-align: right;\n",
       "    }\n",
       "</style>\n",
       "<table border=\"1\" class=\"dataframe\">\n",
       "  <thead>\n",
       "    <tr style=\"text-align: right;\">\n",
       "      <th></th>\n",
       "      <th>name</th>\n",
       "      <th>proj_pres_date</th>\n",
       "      <th>proj_pres_last</th>\n",
       "      <th>jc_date</th>\n",
       "      <th>jc_last</th>\n",
       "    </tr>\n",
       "  </thead>\n",
       "  <tbody>\n",
       "    <tr>\n",
       "      <th>0</th>\n",
       "      <td>Carles</td>\n",
       "      <td>10.04.2025</td>\n",
       "      <td>11.04.2024</td>\n",
       "      <td>24.04.2025</td>\n",
       "      <td>27.03.2025</td>\n",
       "    </tr>\n",
       "    <tr>\n",
       "      <th>1</th>\n",
       "      <td>Mihaly</td>\n",
       "      <td>08.05.2025</td>\n",
       "      <td>14.12.2023</td>\n",
       "      <td>29.05.2025</td>\n",
       "      <td>27.06.2024</td>\n",
       "    </tr>\n",
       "    <tr>\n",
       "      <th>2</th>\n",
       "      <td>Sina</td>\n",
       "      <td>12.06.2025</td>\n",
       "      <td>13.03.2025</td>\n",
       "      <td>26.06.2025</td>\n",
       "      <td>27.02.2025</td>\n",
       "    </tr>\n",
       "    <tr>\n",
       "      <th>3</th>\n",
       "      <td>Fred</td>\n",
       "      <td>10.07.2025</td>\n",
       "      <td>12.12.2024</td>\n",
       "      <td>31.07.2025</td>\n",
       "      <td>01.01.2020</td>\n",
       "    </tr>\n",
       "    <tr>\n",
       "      <th>4</th>\n",
       "      <td>Safe</td>\n",
       "      <td>11.09.2025</td>\n",
       "      <td>21.11.2024</td>\n",
       "      <td>25.09.2025</td>\n",
       "      <td>18.07.2024</td>\n",
       "    </tr>\n",
       "    <tr>\n",
       "      <th>5</th>\n",
       "      <td>Olivia</td>\n",
       "      <td>09.10.2025</td>\n",
       "      <td>31.10.2024</td>\n",
       "      <td>30.10.2025</td>\n",
       "      <td>02.05.2024</td>\n",
       "    </tr>\n",
       "    <tr>\n",
       "      <th>6</th>\n",
       "      <td>William</td>\n",
       "      <td>13.11.2025</td>\n",
       "      <td>23.01.2025</td>\n",
       "      <td>27.11.2025</td>\n",
       "      <td>30.05.2024</td>\n",
       "    </tr>\n",
       "    <tr>\n",
       "      <th>7</th>\n",
       "      <td>Hugo</td>\n",
       "      <td>NaN</td>\n",
       "      <td>01.01.2020</td>\n",
       "      <td>NaN</td>\n",
       "      <td>01.01.2020</td>\n",
       "    </tr>\n",
       "    <tr>\n",
       "      <th>8</th>\n",
       "      <td>Jakob</td>\n",
       "      <td>NaN</td>\n",
       "      <td>01.01.2020</td>\n",
       "      <td>NaN</td>\n",
       "      <td>01.01.2020</td>\n",
       "    </tr>\n",
       "    <tr>\n",
       "      <th>9</th>\n",
       "      <td>Yuxin</td>\n",
       "      <td>NaN</td>\n",
       "      <td>01.01.2020</td>\n",
       "      <td>NaN</td>\n",
       "      <td>24.04.2025</td>\n",
       "    </tr>\n",
       "    <tr>\n",
       "      <th>10</th>\n",
       "      <td>Cecilia</td>\n",
       "      <td>NaN</td>\n",
       "      <td>13.06.2024</td>\n",
       "      <td>NaN</td>\n",
       "      <td>25.01.2024</td>\n",
       "    </tr>\n",
       "    <tr>\n",
       "      <th>11</th>\n",
       "      <td>Yikai</td>\n",
       "      <td>NaN</td>\n",
       "      <td>01.01.2020</td>\n",
       "      <td>NaN</td>\n",
       "      <td>05.12.2024</td>\n",
       "    </tr>\n",
       "    <tr>\n",
       "      <th>12</th>\n",
       "      <td>Jake</td>\n",
       "      <td>NaN</td>\n",
       "      <td>01.01.2020</td>\n",
       "      <td>NaN</td>\n",
       "      <td>26.09.2024</td>\n",
       "    </tr>\n",
       "    <tr>\n",
       "      <th>13</th>\n",
       "      <td>James</td>\n",
       "      <td>NaN</td>\n",
       "      <td>01.01.2020</td>\n",
       "      <td>NaN</td>\n",
       "      <td>30.01.2025</td>\n",
       "    </tr>\n",
       "  </tbody>\n",
       "</table>\n",
       "</div>"
      ],
      "text/plain": [
       "       name proj_pres_date proj_pres_last     jc_date     jc_last\n",
       "0    Carles     10.04.2025     11.04.2024  24.04.2025  27.03.2025\n",
       "1    Mihaly     08.05.2025     14.12.2023  29.05.2025  27.06.2024\n",
       "2      Sina     12.06.2025     13.03.2025  26.06.2025  27.02.2025\n",
       "3      Fred     10.07.2025     12.12.2024  31.07.2025  01.01.2020\n",
       "4      Safe     11.09.2025     21.11.2024  25.09.2025  18.07.2024\n",
       "5    Olivia     09.10.2025     31.10.2024  30.10.2025  02.05.2024\n",
       "6   William     13.11.2025     23.01.2025  27.11.2025  30.05.2024\n",
       "7      Hugo            NaN     01.01.2020         NaN  01.01.2020\n",
       "8     Jakob            NaN     01.01.2020         NaN  01.01.2020\n",
       "9     Yuxin            NaN     01.01.2020         NaN  24.04.2025\n",
       "10  Cecilia            NaN     13.06.2024         NaN  25.01.2024\n",
       "11    Yikai            NaN     01.01.2020         NaN  05.12.2024\n",
       "12     Jake            NaN     01.01.2020         NaN  26.09.2024\n",
       "13    James            NaN     01.01.2020         NaN  30.01.2025"
      ]
     },
     "execution_count": 15,
     "metadata": {},
     "output_type": "execute_result"
    }
   ],
   "source": [
    "data"
   ]
  },
  {
   "cell_type": "code",
   "execution_count": null,
   "metadata": {},
   "outputs": [],
   "source": []
  }
 ],
 "metadata": {
  "kernelspec": {
   "display_name": "Python 3 (ipykernel)",
   "language": "python",
   "name": "python3"
  },
  "language_info": {
   "codemirror_mode": {
    "name": "ipython",
    "version": 3
   },
   "file_extension": ".py",
   "mimetype": "text/x-python",
   "name": "python",
   "nbconvert_exporter": "python",
   "pygments_lexer": "ipython3",
   "version": "3.12.2"
  }
 },
 "nbformat": 4,
 "nbformat_minor": 2
}
